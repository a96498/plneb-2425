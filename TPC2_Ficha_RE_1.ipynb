{
  "nbformat": 4,
  "nbformat_minor": 0,
  "metadata": {
    "colab": {
      "provenance": []
    },
    "kernelspec": {
      "name": "python3",
      "display_name": "Python 3"
    },
    "language_info": {
      "name": "python"
    }
  },
  "cells": [
    {
      "cell_type": "markdown",
      "source": [
        "# Ficha de Expressões Regulares 1"
      ],
      "metadata": {
        "id": "oVaAea-wCM6H"
      }
    },
    {
      "cell_type": "markdown",
      "source": [
        "### Conceitos básicos de expressões regulares\n",
        "\n",
        "- `a` - corresponde a uma ocorrência do caracter `a`.\n",
        "- `a?` - corresponde a 0 ou 1 ocorrências do caracter `a`.\n",
        "- `a+` - corresponde a 1 ou mais ocorrências do caracter `a`.\n",
        "- `a*` - corresponde a 0 ou mais ocorrências do caracter `a`.\n",
        "- `[abc]` - corresponde a uma ocorrência de um dos caracteres `a`, `b` ou `c`.\n",
        "- `[a-z]` - corresponde a uma ocorrência de um caracter entre `a` e `z`.\n",
        "- `^` - corresponde ao início da string.\n",
        "- `$` - corresponde ao fim da string.\n",
        "- `[^abc]` - corresponde a uma ocorrência de qualquer caracter que não seja `a`, `b` ou `c`.\n",
        "\n",
        "Podemos usar o operador de união para unir várias expressões regulares. Por exemplo: `a|bbb|[^a-z]`, que corresponde a uma das várias (neste caso, 3) expressões regulares que fazem parte da união.\n",
        "\n",
        "Podemos simplificar expressões regulares como `bbb` para `b{3}`, ou seja, 3 ocorrências consecutivas do caracter `b`, neste caso. Outras opções incluem `b{3,}` para 3 ou mais ocorrências ou `b{3,6}` para entre 3 a 6 ocorrências, por exemplo.\n",
        "\n",
        "Para formar grupos de expressões regulares, usamos parênteses. Por exemplo: `((abc)*|[0-9]+)?`. Os operadores após um grupo atuam sobre o grupo.\n",
        "\n",
        "Podemos ainda aplicar modificadores a grupos. Por exemplo, `(?i:teste)` corresponde à expressão \"teste\", escrita com qualquer combinação de maiúsculas e minúsculas (e.g., \"TESTE\", \"tEsTe\", \"TEste\", etc.)."
      ],
      "metadata": {
        "id": "gk5jnHXt9t4y"
      }
    },
    {
      "cell_type": "markdown",
      "source": [
        "## Exercício 1"
      ],
      "metadata": {
        "id": "yDRt0yOgJ-TW"
      }
    },
    {
      "cell_type": "markdown",
      "source": [
        "### Alínea 1.1\n",
        "\n",
        "Dada uma linha de texto, define um programa que determina se a palavra \"hello\" aparece no início da linha.\n",
        "\n",
        "Conceitos importantes para este exercício:\n",
        "\n",
        "- `re.match(pattern, string[, flags])` - analisa a `string` e tenta encontrar uma correspondência para a expressão regular `pattern` a partir do início da string. Devolve `None` se não encontrar nenhuma correspondência.\n",
        "- `r\"\"` - string correspondente a uma expressão regular."
      ],
      "metadata": {
        "id": "gI05knhniDCr"
      }
    },
    {
      "cell_type": "code",
      "execution_count": 9,
      "metadata": {
        "id": "ufl-7TGph9WH",
        "colab": {
          "base_uri": "https://localhost:8080/"
        },
        "outputId": "1d9c9720-2a92-41ce-a897-f6bb1941137c"
      },
      "outputs": [
        {
          "output_type": "stream",
          "name": "stdout",
          "text": [
            "**CORRESPONDENCIA**:\n",
            "hello world: a palavra aparece no início da linha!\n",
            "goodbye world: None\n",
            "hi, hello there: None\n"
          ]
        }
      ],
      "source": [
        "import re\n",
        "\n",
        "line1 = \"hello world\"\n",
        "line2 = \"goodbye world\"\n",
        "line3 = \"hi, hello there\"\n",
        "\n",
        "texto = [line1, line2, line3]\n",
        "\n",
        "print('**CORRESPONDENCIA**:')\n",
        "\n",
        "for linha in texto:\n",
        "    aparece_inicio_linha = re.match(r\"hello\\b\", linha)\n",
        "\n",
        "    if aparece_inicio_linha != None:\n",
        "      aparece_inicio_linha = 'a palavra aparece no início da linha!'\n",
        "\n",
        "    print(f'{linha}: {aparece_inicio_linha}')\n"
      ]
    },
    {
      "cell_type": "markdown",
      "source": [
        "### Alínea 1.2\n",
        "\n",
        "Dada uma linha de texto, define um programa que determina se a palavra \"hello\" aparece em qualquer posição da linha.\n",
        "\n",
        "Conceitos importantes para este exercício:\n",
        "\n",
        "- `re.search(pattern, string[, flags])` - analisa a `string` e tenta encontrar uma correspondência para a expressão regular `pattern` em qualquer posição da string. Devolve `None` se não encontrar nenhuma correspondência."
      ],
      "metadata": {
        "id": "gzgOACqiJ7VN"
      }
    },
    {
      "cell_type": "code",
      "execution_count": 14,
      "metadata": {
        "id": "TM-qMl-yJ7VS",
        "colab": {
          "base_uri": "https://localhost:8080/"
        },
        "outputId": "1c344753-0174-4eae-ea7c-c691a269504b"
      },
      "outputs": [
        {
          "output_type": "stream",
          "name": "stdout",
          "text": [
            "Correspondência:\n",
            "hello world: a palavra aparece na linha!\n",
            "goodbye world: None\n",
            "hi, hello there: a palavra aparece na linha!\n"
          ]
        }
      ],
      "source": [
        "line1 = \"hello world\"\n",
        "line2 = \"goodbye world\"\n",
        "line3 = \"hi, hello there\"\n",
        "\n",
        "texto = [line1, line2, line3]\n",
        "\n",
        "print('Correspondência:')\n",
        "\n",
        "for linha in texto:\n",
        "    aparece_linha = re.search(r\"\\bhello\\b\", linha)\n",
        "\n",
        "    if aparece_linha != None:\n",
        "      aparece_linha = 'a palavra aparece na linha!'\n",
        "\n",
        "    print(f'{str(linha)}: {aparece_linha}')"
      ]
    },
    {
      "cell_type": "markdown",
      "source": [
        "### Alínea 1.3\n",
        "\n",
        "Dada uma linha de texto, define um programa que pesquisa por todas as ocorrências da palavra \"hello\" dentro da linha, admitindo que a palavra seja escrita com maiúsculas ou minúsculas.\n",
        "\n",
        "Conceitos importantes para este exercício:\n",
        "\n",
        "- `re.findall(pattern, string[, flags])` - encontra todas as correspondências que não se sobreponham da expressão regular `pattern` na `string`. Devolve uma lista."
      ],
      "metadata": {
        "id": "6ZE7klswOy90"
      }
    },
    {
      "cell_type": "code",
      "source": [
        "line = \"Hello there! Uh, hi, hello, it's me... Heyyy, hello? HELLO!\"\n",
        "\n",
        "hellos = re.findall(r\"(?i:hello)\", line)\n",
        "print(hellos)\n"
      ],
      "metadata": {
        "id": "aHB_l7g5OzNY",
        "colab": {
          "base_uri": "https://localhost:8080/"
        },
        "outputId": "20091ebf-4c33-4530-de0b-d28e17799a69"
      },
      "execution_count": 17,
      "outputs": [
        {
          "output_type": "stream",
          "name": "stdout",
          "text": [
            "['Hello', 'hello', 'hello', 'HELLO']\n"
          ]
        }
      ]
    },
    {
      "cell_type": "markdown",
      "source": [
        "### Alínea 1.4\n",
        "\n",
        "Dada uma linha de texto, define um programa que pesquisa por todas as ocorrências da palavra \"hello\" dentro da linha, substituindo cada uma por \"\\*YEP\\*\".\n",
        "\n",
        "Conceitos importantes para este exercício:\n",
        "\n",
        "- `re.sub(pattern, replacement, string, count = 0, flags = 0)` - substitui todas as correspondências da expressão regular `pattern` na `string` por `replacement`. `replacement` pode ser uma string, uma expressão regular ou uma função que recebe uma correspondência e devolve uma string. O parâmetro `count` determina o limite de substituições (por defeito é 0, ou seja, não há limite)."
      ],
      "metadata": {
        "id": "TSwUj26OPRmP"
      }
    },
    {
      "cell_type": "code",
      "source": [
        "line = \"Hello there! Uh, hi, hello, it's me... Heyyy, hello? HELLO!\"\n",
        "\n",
        "novo_texto = re.sub(r\"(?i:hello)\", \"*YEP*\", line)\n",
        "print(novo_texto)"
      ],
      "metadata": {
        "id": "SXLK2rhMPf11",
        "colab": {
          "base_uri": "https://localhost:8080/"
        },
        "outputId": "c015cd9f-87d0-4a17-8efa-893ef866c928"
      },
      "execution_count": 11,
      "outputs": [
        {
          "output_type": "stream",
          "name": "stdout",
          "text": [
            "*YEP* there! Uh, hi, *YEP*, it's me... Heyyy, *YEP*? *YEP*!\n"
          ]
        }
      ]
    },
    {
      "cell_type": "markdown",
      "source": [
        "### Alínea 1.5\n",
        "\n",
        "Dada uma linha de texto, define um programa que pesquisa por todas as ocorrências do caracter vírgula, separando cada parte da linha por esse caracter.\n",
        "\n",
        "Conceitos importantes para este exercício:\n",
        "\n",
        "- `re.split(pattern, string, maxsplit = 0, flags = 0)` - divide a `string` com base nas correspondências da expressão regular `pattern`. O parâmetro `maxsplit` pode ser usado para definir um limite de divisões (por defeito é 0, que corresponde a divisões infinitas)."
      ],
      "metadata": {
        "id": "MrgsEzJCPgbO"
      }
    },
    {
      "cell_type": "code",
      "source": [
        "line = \"bananas, laranjas, maçãs, uvas, melancias, cerejas, kiwis, etc.\"\n",
        "\n",
        "partes = re.split(r\",\\s*\", line)\n",
        "print(partes)"
      ],
      "metadata": {
        "id": "vrwiid6XPgvg",
        "colab": {
          "base_uri": "https://localhost:8080/"
        },
        "outputId": "9f94c56f-b4b7-4f02-95fe-2ad066ba447c"
      },
      "execution_count": 19,
      "outputs": [
        {
          "output_type": "stream",
          "name": "stdout",
          "text": [
            "['bananas', 'laranjas', 'maçãs', 'uvas', 'melancias', 'cerejas', 'kiwis', 'etc.']\n"
          ]
        }
      ]
    },
    {
      "cell_type": "markdown",
      "source": [
        "## Exercício 2\n",
        "\n",
        "Define a função `palavra_magica` que recebe uma frase e determina se a mesma termina com a expressão \"por favor\", seguida de um sinal válido de pontuação."
      ],
      "metadata": {
        "id": "6QP0erT4iSzE"
      }
    },
    {
      "cell_type": "code",
      "source": [
        "def palavra_magica(frase):\n",
        "  procura = bool(re.search(r\"(por favor[?.!])$\",frase))\n",
        "  return procura\n",
        "\n",
        "\n",
        "print(palavra_magica(\"Posso ir à casa de banho, por favor?\"))\n",
        "print(palavra_magica(\"Preciso de um favor.\"))"
      ],
      "metadata": {
        "id": "MhCC49z7jU7n",
        "colab": {
          "base_uri": "https://localhost:8080/"
        },
        "outputId": "1d780195-a6ca-4bc5-ba2c-5c7d805878a5"
      },
      "execution_count": 33,
      "outputs": [
        {
          "output_type": "stream",
          "name": "stdout",
          "text": [
            "True\n",
            "False\n"
          ]
        }
      ]
    },
    {
      "cell_type": "markdown",
      "source": [
        "## Exercício 3\n",
        "\n",
        "Define a função `narcissismo` que calcula quantas vezes a palavra \"eu\" aparece numa string."
      ],
      "metadata": {
        "id": "L71wvPCujpBD"
      }
    },
    {
      "cell_type": "code",
      "source": [
        "def narcissismo(linha):\n",
        "  contagem_eu = len(re.findall(r\"(?i:eu)\",linha))\n",
        "  return contagem_eu\n",
        "\n",
        "print(narcissismo(\"Eu não sei se eu quero continuar a ser eu. Por outro lado, eu ser eu é uma parte importante de quem EU sou.\"))"
      ],
      "metadata": {
        "id": "0HxFCow5nOj8",
        "colab": {
          "base_uri": "https://localhost:8080/"
        },
        "outputId": "e65eb566-ee1c-4ac6-ed08-4fcc39671b5e"
      },
      "execution_count": 37,
      "outputs": [
        {
          "output_type": "stream",
          "name": "stdout",
          "text": [
            "6\n"
          ]
        }
      ]
    },
    {
      "cell_type": "markdown",
      "source": [
        "## Exercício 4\n",
        "\n",
        "Define a função `troca_de_curso` que substitui todas as ocorrências de \"LEI\" numa linha pelo nome do curso dado à função."
      ],
      "metadata": {
        "id": "EKETfRaOolO4"
      }
    },
    {
      "cell_type": "code",
      "source": [
        "def troca_de_curso(linha, novo_curso):\n",
        "  novo_texto = re.sub(r\"LEI\", str(novo_curso), str(linha))\n",
        "  return novo_texto\n",
        "\n",
        "print(troca_de_curso(\"LEI é o melhor curso! Adoro LEI! Gostar de LEI devia ser uma lei.\", \"Biomédica\" ))"
      ],
      "metadata": {
        "id": "8ZVPMxfZpRrx",
        "colab": {
          "base_uri": "https://localhost:8080/"
        },
        "outputId": "64f88b81-8869-4e51-c83b-d8988bdcf62c"
      },
      "execution_count": 40,
      "outputs": [
        {
          "output_type": "stream",
          "name": "stdout",
          "text": [
            "Biomédica é o melhor curso! Adoro Biomédica! Gostar de Biomédica devia ser uma lei.\n"
          ]
        }
      ]
    },
    {
      "cell_type": "markdown",
      "source": [
        "## Exercício 5\n",
        "\n",
        "Define a função `soma_string` que recebe uma string com vários números separados por uma vírgula (e.g., \"1,2,3,4,5\") e devolve a soma destes números."
      ],
      "metadata": {
        "id": "GZKMkTKcp886"
      }
    },
    {
      "cell_type": "code",
      "source": [
        "def soma_string(linha):\n",
        "  lista_numeros = re.split(r\",\",linha)\n",
        "\n",
        "  soma = 0\n",
        "  for numero in lista_numeros:\n",
        "    soma += int(numero)\n",
        "  return soma\n",
        "\n",
        "print(soma_string(\"4,-6,2,3,8,-3,0,2,-5,1\"))"
      ],
      "metadata": {
        "id": "ExqmZwj_rzuR",
        "colab": {
          "base_uri": "https://localhost:8080/"
        },
        "outputId": "3c3832c7-3f9f-4723-dea2-4f417cbd442e"
      },
      "execution_count": 41,
      "outputs": [
        {
          "output_type": "stream",
          "name": "stdout",
          "text": [
            "6\n"
          ]
        }
      ]
    },
    {
      "cell_type": "markdown",
      "source": [
        "## Exercício 6\n",
        "\n",
        "Define a função `pronomes` que encontra e devolve todos os pronomes pessoais presentes numa frase, i.e., \"eu\", \"tu\", \"ele\", \"ela\", etc., com atenção para letras maiúsculas ou minúsculas."
      ],
      "metadata": {
        "id": "n49iafoNzw-3"
      }
    },
    {
      "cell_type": "code",
      "source": [
        "def pronomes(frase):\n",
        "  lista_pronomes = re.findall(r\"\\b(?i:[et]u|el[ea]s?|[nv]os)\\b\",frase)\n",
        "  return lista_pronomes\n",
        "\n",
        "\n",
        "print(pronomes('Tu e eu fomos às compras e nos voltamos de carro'))\n"
      ],
      "metadata": {
        "id": "RnuCrz2H0DWq",
        "colab": {
          "base_uri": "https://localhost:8080/"
        },
        "outputId": "ba0d6cab-08b9-447e-9a83-78d50955662a"
      },
      "execution_count": 48,
      "outputs": [
        {
          "output_type": "stream",
          "name": "stdout",
          "text": [
            "['Tu', 'eu', 'nos']\n"
          ]
        }
      ]
    },
    {
      "cell_type": "markdown",
      "source": [
        "## Exercício 7\n",
        "\n",
        "Define a função `variavel_valida` que recebe uma string e determina se a mesma é um nome válido para uma variável, ou seja, se começa por uma letra e apenas contém letras, números ou *underscores*."
      ],
      "metadata": {
        "id": "BHMk88OQ0XFY"
      }
    },
    {
      "cell_type": "code",
      "source": [
        "def variavel_valida(variavel):\n",
        "  comeca_letra = bool(re.match(r\"[a-zA-Z]\", variavel))\n",
        "  apenas_letras_numeros_underscores = bool((re.search(r\"\\W*\\s\", variavel)))\n",
        "\n",
        "  if comeca_letra == True and apenas_letras_numeros_underscores == False:\n",
        "    return True\n",
        "  else:\n",
        "    return False\n",
        "\n",
        "print( '\\n', variavel_valida('Chuidlh234_3'),\n",
        "      '\\n',variavel_valida('12345'),\n",
        "       '\\n',variavel_valida('a3 ruei'))\n"
      ],
      "metadata": {
        "id": "YTQW91Ws1WLx",
        "colab": {
          "base_uri": "https://localhost:8080/"
        },
        "outputId": "8fceb4c9-ea0e-4b5a-fc14-9dd473ee99b7"
      },
      "execution_count": 33,
      "outputs": [
        {
          "output_type": "stream",
          "name": "stdout",
          "text": [
            "\n",
            " True \n",
            " False \n",
            " False\n"
          ]
        }
      ]
    },
    {
      "cell_type": "markdown",
      "source": [
        "## Exercício 8\n",
        "\n",
        "Define a função `inteiros` que devolve todos os números inteiros presentes numa string. Um número inteiro pode conter um ou mais dígitos e pode ser positivo ou negativo."
      ],
      "metadata": {
        "id": "ZRWbgkMM5qzx"
      }
    },
    {
      "cell_type": "code",
      "source": [
        "import re\n",
        "def inteiros(line):\n",
        "  numeros = re.findall(r\"[-]?\\d+\",line)\n",
        "\n",
        "  return numeros\n",
        "\n",
        "print(inteiros('os números foram: -2; 5; 4,2 e 73.'))"
      ],
      "metadata": {
        "id": "jsmiEi6gA7vh",
        "colab": {
          "base_uri": "https://localhost:8080/"
        },
        "outputId": "8c1c6295-35f0-4501-bd44-f94fc23ab415"
      },
      "execution_count": 14,
      "outputs": [
        {
          "output_type": "stream",
          "name": "stdout",
          "text": [
            "['-2', '5', '4', '2', '73']\n"
          ]
        }
      ]
    },
    {
      "cell_type": "markdown",
      "source": [
        "## Exercício 9\n",
        "\n",
        "Define a função `underscores` que substitui todos os espaços numa string por *underscores*. Se aparecerem vários espaços seguidos, devem ser substituídos por apenas um *underscore*."
      ],
      "metadata": {
        "id": "QhpGhtBT7aD3"
      }
    },
    {
      "cell_type": "code",
      "source": [
        "import re\n",
        "\n",
        "def underscores(linha):\n",
        "  underscor = re.sub(r\"\\s+\",'_',linha)\n",
        "  return underscor\n",
        "\n",
        "print(underscores('A     Maria voou para muito longe   .'))"
      ],
      "metadata": {
        "id": "1YTIkZT-6Ase",
        "colab": {
          "base_uri": "https://localhost:8080/"
        },
        "outputId": "ed540fea-76ab-41fb-b9aa-1e1b5b692a53"
      },
      "execution_count": 22,
      "outputs": [
        {
          "output_type": "stream",
          "name": "stdout",
          "text": [
            "A_Maria_voou_para_muito_longe_.\n"
          ]
        }
      ]
    },
    {
      "cell_type": "markdown",
      "source": [
        "## Exercício 10\n",
        "\n",
        "Define a função `codigos_postais` que recebe uma lista de códigos postais válidos e divide-os com base no hífen. A função deve devolver uma lista de pares."
      ],
      "metadata": {
        "id": "xcUrRlIy8uof"
      }
    },
    {
      "cell_type": "code",
      "source": [
        "lista = [\n",
        "    \"4700-000\",\n",
        "    \"1234-567\",\n",
        "    \"8541-543\",\n",
        "    \"4123-974\",\n",
        "    \"9481-025\"\n",
        "]\n",
        "\n",
        "def codigos_postais(lista):\n",
        "  codigos=[]\n",
        "  for codigo in lista:\n",
        "    separado = re.split(r\"-\",codigo)\n",
        "    codigos.append(separado)\n",
        "  return codigos\n",
        "\n",
        "print(codigos_postais(lista))"
      ],
      "metadata": {
        "id": "6xj01Oy09ncO",
        "colab": {
          "base_uri": "https://localhost:8080/"
        },
        "outputId": "c746019c-613d-48a3-ef02-83d998e97cd4"
      },
      "execution_count": 29,
      "outputs": [
        {
          "output_type": "stream",
          "name": "stdout",
          "text": [
            "[['4700', '000'], ['1234', '567'], ['8541', '543'], ['4123', '974'], ['9481', '025']]\n"
          ]
        }
      ]
    }
  ]
}